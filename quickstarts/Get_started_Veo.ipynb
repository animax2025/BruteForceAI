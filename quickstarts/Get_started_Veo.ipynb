{
  "cells": [
    {
      "cell_type": "markdown",
      "metadata": {
        "id": "view-in-github",
        "colab_type": "text"
      },
      "source": [
        "<a href=\"https://colab.research.google.com/github/animax2025/BruteForceAI/blob/main/quickstarts/Get_started_Veo.ipynb\" target=\"_parent\"><img src=\"https://colab.research.google.com/assets/colab-badge.svg\" alt=\"Open In Colab\"/></a>"
      ]
    },
    {
      "cell_type": "markdown",
      "metadata": {
        "id": "0fgOxpmGrOvn"
      },
      "source": [
        "##### Copyright 2025 Google LLC."
      ]
    },
    {
      "cell_type": "code",
      "execution_count": 1,
      "metadata": {
        "cellView": "form",
        "id": "zxdx4xJxrTfP"
      },
      "outputs": [],
      "source": [
        "# @title Licensed under the Apache License, Version 2.0 (the \"License\");\n",
        "# you may not use this file except in compliance with the License.\n",
        "# You may obtain a copy of the License at\n",
        "#\n",
        "# https://www.apache.org/licenses/LICENSE-2.0\n",
        "#\n",
        "# Unless required by applicable law or agreed to in writing, software\n",
        "# distributed under the License is distributed on an \"AS IS\" BASIS,\n",
        "# WITHOUT WARRANTIES OR CONDITIONS OF ANY KIND, either express or implied.\n",
        "# See the License for the specific language governing permissions and\n",
        "# limitations under the License."
      ]
    },
    {
      "cell_type": "markdown",
      "metadata": {
        "id": "Qw6ttkOtrQ_D"
      },
      "source": [
        "# Get started with Video generation using Veo\n",
        "\n",
        "<a target=\"_blank\" href=\"https://colab.research.google.com/github/google-gemini/cookbook/blob/main/quickstarts/Get_started_Veo.ipynb\"><img src=\"https://colab.research.google.com/assets/colab-badge.svg\" height=30/></a>\n",
        "\n",
        "_If you're reading this notebook on Github, open it in Colab by clicking the above button to see the generated videos._"
      ]
    },
    {
      "cell_type": "markdown",
      "metadata": {
        "id": "ZxyWXUYxU4J-"
      },
      "source": [
        "<!-- Princing warning Badge -->\n",
        "<table>\n",
        "  <tr>\n",
        "    <!-- Emoji -->\n",
        "    <td bgcolor=\"#f5949e\">\n",
        "      <font size=30>⚠️</font>\n",
        "    </td>\n",
        "    <!-- Text Content Cell -->\n",
        "    <td bgcolor=\"#f5949e\">\n",
        "      <h3><font color=black>Veo is a paid only feature. It won't run with the Free Tier.<br>  \n",
        "      (cf. <a href=\"https://ai.google.dev/pricing#veo2\"><font color='#217bfe'>pricing</font></a> for more details).</font></h3>\n",
        "    </td>\n",
        "  </tr>\n",
        "</table>"
      ]
    },
    {
      "cell_type": "code",
      "execution_count": 2,
      "metadata": {
        "id": "B0_quflsUfYj"
      },
      "outputs": [],
      "source": [
        "# Change that value if you want to run the colab\n",
        "I_am_aware_that_veo_is_a_paid_feature = False # @param {type:\"boolean\"}"
      ]
    },
    {
      "cell_type": "markdown",
      "metadata": {
        "id": "uX1mTOHNO2gz"
      },
      "source": [
        "## Why Veo\n",
        "\n",
        "Veo enables developers to create high quality videos with incredible detail, minimal artifacts, and extended durations in resolutions up to 720p. Veo supports both text-to-video and image-to-video.\n",
        "\n",
        "With [Veo 3](https://ai.google.dev/gemini-api/docs/video), developers can create videos with:\n",
        "* **Advanced language understanding**: Veo deeply understands natural language and visual semantics, capturing the nuance and tone of complex prompts to render intricate details in extended scenes, including cinematic terms like \"timelapse\" or \"aerial shots.\"\n",
        "* **Unprecedented creative control**: Veo provides an unprecedented level of creative control, understanding prompts for all kinds of cinematic effects, like timelapses or aerial shots of a landscape.\n",
        "* **Videos with audio**: Veo 3 generates videos with audio automatically, with no additional effort from the developer.\n",
        "* **More accurate video controls**: Veo 3 is more accurate on lighting, accurate physics, and camera controls.\n",
        "\n",
        "The Veo 3 family of models includes both [**Veo 3**](https://ai.google.dev/gemini-api/docs/video?example=dialogue#veo-3) as well as [**Veo 3 Fast**](https://ai.google.dev/gemini-api/docs/video?example=dialogue#veo-3-fast), which is a faster and more accessible version of Veo 3. Veo 3 Fast is ideal for backend services that programmatically generate ads, tools for rapid A/B testing of creative concepts, or apps that need to quickly produce social media content."
      ]
    },
    {
      "cell_type": "markdown",
      "metadata": {
        "id": "819d07fda02f"
      },
      "source": [
        "Note that the previous model generation, [**Veo 2**](https://ai.google.dev/gemini-api/docs/video?example=dialogue#veo-2), is still available for developers via the Gemini API. However, unlike Veo 3, videos generated by Veo 2 do not contain audio."
      ]
    },
    {
      "cell_type": "markdown",
      "metadata": {
        "id": "Mfk6YY3G5kqp"
      },
      "source": [
        "## Setup"
      ]
    },
    {
      "cell_type": "markdown",
      "metadata": {
        "id": "d5027929de8f"
      },
      "source": [
        "### Install SDK\n",
        "\n",
        "Install the SDK from [PyPI](https://github.com/googleapis/python-genai)."
      ]
    },
    {
      "cell_type": "code",
      "execution_count": 3,
      "metadata": {
        "id": "46zEFO2a9FFd",
        "outputId": "6c21a089-8f82-4638-cd2a-785486a00d00",
        "colab": {
          "base_uri": "https://localhost:8080/"
        }
      },
      "outputs": [
        {
          "output_type": "stream",
          "name": "stdout",
          "text": [
            "\u001b[?25l     \u001b[90m━━━━━━━━━━━━━━━━━━━━━━━━━━━━━━━━━━━━━━━━\u001b[0m \u001b[32m0.0/45.4 kB\u001b[0m \u001b[31m?\u001b[0m eta \u001b[36m-:--:--\u001b[0m\r\u001b[2K     \u001b[90m━━━━━━━━━━━━━━━━━━━━━━━━━━━━━━━━━━━━━━━━\u001b[0m \u001b[32m45.4/45.4 kB\u001b[0m \u001b[31m4.0 MB/s\u001b[0m eta \u001b[36m0:00:00\u001b[0m\n",
            "\u001b[?25h\u001b[?25l   \u001b[90m━━━━━━━━━━━━━━━━━━━━━━━━━━━━━━━━━━━━━━━━\u001b[0m \u001b[32m0.0/244.7 kB\u001b[0m \u001b[31m?\u001b[0m eta \u001b[36m-:--:--\u001b[0m\r\u001b[2K   \u001b[90m━━━━━━━━━━━━━━━━━━━━━━━━━━━━━━━━━━━━━━━━\u001b[0m \u001b[32m244.7/244.7 kB\u001b[0m \u001b[31m24.5 MB/s\u001b[0m eta \u001b[36m0:00:00\u001b[0m\n",
            "\u001b[?25h"
          ]
        }
      ],
      "source": [
        "%pip install -U -q \"google-genai>1.8.0\""
      ]
    },
    {
      "cell_type": "markdown",
      "metadata": {
        "id": "CTIfnvCn9HvH"
      },
      "source": [
        "### Setup your API key and initialize client\n",
        "\n",
        "To run the following cell, your API key must be stored it in a Colab Secret named `GOOGLE_API_KEY`. If you don't already have an API key, or you're not sure how to create a Colab Secret, see [Authentication](../quickstarts/Authentication.ipynb) for an example."
      ]
    },
    {
      "cell_type": "code",
      "execution_count": 4,
      "metadata": {
        "id": "A1pkoyZb9Jm3",
        "outputId": "3812be45-75de-462d-9893-b7fe7f87d66b",
        "colab": {
          "base_uri": "https://localhost:8080/",
          "height": 315
        }
      },
      "outputs": [
        {
          "output_type": "error",
          "ename": "SecretNotFoundError",
          "evalue": "Secret GEMINI_API_KEY does not exist.",
          "traceback": [
            "\u001b[0;31m---------------------------------------------------------------------------\u001b[0m",
            "\u001b[0;31mSecretNotFoundError\u001b[0m                       Traceback (most recent call last)",
            "\u001b[0;32m/tmp/ipython-input-2930910638.py\u001b[0m in \u001b[0;36m<cell line: 0>\u001b[0;34m()\u001b[0m\n\u001b[1;32m      3\u001b[0m \u001b[0;32mfrom\u001b[0m \u001b[0mgoogle\u001b[0m\u001b[0;34m.\u001b[0m\u001b[0mgenai\u001b[0m \u001b[0;32mimport\u001b[0m \u001b[0mtypes\u001b[0m\u001b[0;34m\u001b[0m\u001b[0;34m\u001b[0m\u001b[0m\n\u001b[1;32m      4\u001b[0m \u001b[0;34m\u001b[0m\u001b[0m\n\u001b[0;32m----> 5\u001b[0;31m \u001b[0mGEMINI_API_KEY\u001b[0m \u001b[0;34m=\u001b[0m \u001b[0muserdata\u001b[0m\u001b[0;34m.\u001b[0m\u001b[0mget\u001b[0m\u001b[0;34m(\u001b[0m\u001b[0;34m'GEMINI_API_KEY'\u001b[0m\u001b[0;34m)\u001b[0m\u001b[0;34m\u001b[0m\u001b[0;34m\u001b[0m\u001b[0m\n\u001b[0m\u001b[1;32m      6\u001b[0m \u001b[0mclient\u001b[0m \u001b[0;34m=\u001b[0m \u001b[0mgenai\u001b[0m\u001b[0;34m.\u001b[0m\u001b[0mClient\u001b[0m\u001b[0;34m(\u001b[0m\u001b[0mapi_key\u001b[0m\u001b[0;34m=\u001b[0m\u001b[0mGEMINI_API_KEY\u001b[0m\u001b[0;34m)\u001b[0m\u001b[0;34m\u001b[0m\u001b[0;34m\u001b[0m\u001b[0m\n",
            "\u001b[0;32m/usr/local/lib/python3.12/dist-packages/google/colab/userdata.py\u001b[0m in \u001b[0;36mget\u001b[0;34m(key)\u001b[0m\n\u001b[1;32m     66\u001b[0m     \u001b[0;32mraise\u001b[0m \u001b[0mTimeoutException\u001b[0m\u001b[0;34m(\u001b[0m\u001b[0mkey\u001b[0m\u001b[0;34m)\u001b[0m\u001b[0;34m\u001b[0m\u001b[0;34m\u001b[0m\u001b[0m\n\u001b[1;32m     67\u001b[0m   \u001b[0;32mif\u001b[0m \u001b[0;32mnot\u001b[0m \u001b[0mresp\u001b[0m\u001b[0;34m.\u001b[0m\u001b[0mget\u001b[0m\u001b[0;34m(\u001b[0m\u001b[0;34m'exists'\u001b[0m\u001b[0;34m,\u001b[0m \u001b[0;32mFalse\u001b[0m\u001b[0;34m)\u001b[0m\u001b[0;34m:\u001b[0m\u001b[0;34m\u001b[0m\u001b[0;34m\u001b[0m\u001b[0m\n\u001b[0;32m---> 68\u001b[0;31m     \u001b[0;32mraise\u001b[0m \u001b[0mSecretNotFoundError\u001b[0m\u001b[0;34m(\u001b[0m\u001b[0mkey\u001b[0m\u001b[0;34m)\u001b[0m\u001b[0;34m\u001b[0m\u001b[0;34m\u001b[0m\u001b[0m\n\u001b[0m\u001b[1;32m     69\u001b[0m   \u001b[0;32mif\u001b[0m \u001b[0;32mnot\u001b[0m \u001b[0mresp\u001b[0m\u001b[0;34m.\u001b[0m\u001b[0mget\u001b[0m\u001b[0;34m(\u001b[0m\u001b[0;34m'access'\u001b[0m\u001b[0;34m,\u001b[0m \u001b[0;32mFalse\u001b[0m\u001b[0;34m)\u001b[0m\u001b[0;34m:\u001b[0m\u001b[0;34m\u001b[0m\u001b[0;34m\u001b[0m\u001b[0m\n\u001b[1;32m     70\u001b[0m     \u001b[0;32mraise\u001b[0m \u001b[0mNotebookAccessError\u001b[0m\u001b[0;34m(\u001b[0m\u001b[0mkey\u001b[0m\u001b[0;34m)\u001b[0m\u001b[0;34m\u001b[0m\u001b[0;34m\u001b[0m\u001b[0m\n",
            "\u001b[0;31mSecretNotFoundError\u001b[0m: Secret GEMINI_API_KEY does not exist."
          ]
        }
      ],
      "source": [
        "from google.colab import userdata\n",
        "from google import genai\n",
        "from google.genai import types\n",
        "\n",
        "GEMINI_API_KEY = userdata.get('GEMINI_API_KEY')\n",
        "client = genai.Client(api_key=GEMINI_API_KEY)"
      ]
    },
    {
      "cell_type": "markdown",
      "metadata": {
        "id": "mWriDMiz4xjZ"
      },
      "source": [
        "## Experimenting with Veo\n",
        "\n",
        "Describe your desired scene, whether crafted by you or with Gemini's assistance, and Veo 3 brings it to life.\n",
        "\n",
        "**Safety is a core focus**, with robust measures to prevent inappropriate or harmful content, and all generated videos are digitally watermarked with [Google DeepMind’s SynthID](https://deepmind.google/science/synthid/).\n"
      ]
    },
    {
      "cell_type": "markdown",
      "metadata": {
        "id": "MPWt7qVqLTMi"
      },
      "source": [
        "### Select the Veo 3 model"
      ]
    },
    {
      "cell_type": "code",
      "execution_count": null,
      "metadata": {
        "id": "E_mxGJ9B-VZf"
      },
      "outputs": [],
      "source": [
        "VEO_MODEL_ID = \"veo-3.0-fast-generate-001\" # @param ['veo-2.0-generate-001', 'veo-3.0-fast-generate-001', 'veo-3.0-generate-001'] {\"allow-input\":true, isTemplate: true}"
      ]
    },
    {
      "cell_type": "markdown",
      "metadata": {
        "id": "NksUQPkf2byh"
      },
      "source": [
        "### Text-to-video\n",
        "\n",
        "Veo 3 can generate videos from text prompts (see in the code comments for ideas).\n",
        "\n",
        "#### Prompting Tips for Veo\n",
        "To get the most out of Veo, consider incorporating specific video terminology into your prompts.  Veo understands a wide range of terms related to:\n",
        "\n",
        "* **Shot composition**: Specify the framing and number of subjects in the shot (e.g., \"*single shot*\", \"*two shot*\", \"*over-the-shoulder shot*\").\n",
        "* **Camera positioning and movement**:  Control the camera's location and movement using terms like \"*eye level*\", \"*high angle*\", \"*worms eye*\", \"*dolly shot*\", \"*zoom shot*\", \"*pan shot,\" and \"*tracking shot*\".\n",
        "* **Focus and lens effects**:  Use terms like \"*shallow focus*\", \"*deep focus*\", \"*soft focus*\", \"*macro lens*\", and \"*wide-angle lens*\" to achieve specific visual effects.\n",
        "* **Overall style and subject**: Guide Veo's creative direction by specifying styles like \"*sci-fi*\", \"*romantic comedy*\", \"*action movie*\" or \"*animation*\". You can also describe the subjects and backgrounds you want, such as \"*cityscape*\", \"*nature*\", \"*vehicles*\", or \"animals.\"\n",
        "\n",
        "Check the [Veo prompt guide](https://ai.google.dev/gemini-api/docs/video/veo-prompt-guide) for more details and tips.\n",
        "\n",
        "#### Optional parameters for Veo 3\n",
        "The prompt is the only mandatory parameters, the others are all optional.\n",
        "\n",
        "* **negative_prompt**: What you don't want to see in the video,\n",
        "* **person_generation**: Tell you model if it's allowed to generate adults in the videos or not. Children are always blocked,\n",
        "* **number_of_videos**: With Veo 3, it is always a single shot generation (one video generated),\n",
        "* **duration_seconds**: With Veo 3, it is always 8 seconds long videos generated,\n",
        "* **aspect ratio**: Either `16:9` (landscape) or `9:16` (portrait),\n",
        "* **resolution**: Either `720p` or `1080p` (only in 16:9)"
      ]
    },
    {
      "cell_type": "markdown",
      "metadata": {
        "id": "koX7NC8m2g3P"
      },
      "source": [
        "#### A video creation from a simple text prompt"
      ]
    },
    {
      "cell_type": "markdown",
      "metadata": {
        "id": "1LVVbZXtmr6b"
      },
      "source": [
        "It takes about a minute for the video to be generated."
      ]
    },
    {
      "cell_type": "code",
      "execution_count": null,
      "metadata": {
        "id": "IjInUiB22eqe"
      },
      "outputs": [],
      "source": [
        "if not I_am_aware_that_veo_is_a_paid_feature:\n",
        "  print(\"Veo is a paid feature. Please change the variable 'I_am_aware_that_veo_is_a_paid_feature' to True if you are okay with paying to run it.\")\n",
        "\n",
        "else:\n",
        "  import time\n",
        "  from IPython.display import Video, HTML\n",
        "\n",
        "  prompt = \"a close-up shot of a golden retriever playing in a field of sunflowers\" # @param {type: \"string\"}\n",
        "\n",
        "  # Optional parameters\n",
        "  negative_prompt = \"barking, woofing\" # @param {type: \"string\"}\n",
        "  aspect_ratio = \"16:9\" # @param [\"16:9\",\"9:16\"]\n",
        "  resolution = \"1080p\" # @param [\"720p\",\"1080p\"]\n",
        "\n",
        "  operation = client.models.generate_videos(\n",
        "      model=VEO_MODEL_ID,\n",
        "      prompt=prompt,\n",
        "      config=types.GenerateVideosConfig(\n",
        "        # At the moment the config must not be empty\n",
        "        aspect_ratio=aspect_ratio,\n",
        "        resolution=resolution,\n",
        "        number_of_videos=1, # 1 video generated per request\n",
        "        negative_prompt=negative_prompt,\n",
        "      ),\n",
        "  )\n",
        "\n",
        "  # Waiting for the video(s) to be generated\n",
        "  while not operation.done:\n",
        "      time.sleep(20)\n",
        "      operation = client.operations.get(operation)\n",
        "      print(operation)\n",
        "\n",
        "  print(operation.result.generated_videos)\n",
        "\n",
        "  for n, generated_video in enumerate(operation.result.generated_videos):\n",
        "    client.files.download(file=generated_video.video)\n",
        "    generated_video.video.save(f'video{n}.mp4') # Saves the video(s)\n",
        "    display(generated_video.video.show()) # Displays the video(s) in a notebook"
      ]
    },
    {
      "cell_type": "markdown",
      "metadata": {
        "id": "hsdf5mVexVEx"
      },
      "source": [
        "##### Watch a sample generation 🎥\n",
        "\n",
        "🍿 The video you will generate will be similar to this: [A golden retriever playing in a field of sunflowers](https://storage.googleapis.com/generativeai-downloads/gemini-cookbook/videos/dog_sunflowers.mp4).\n",
        "\n",
        "<video controls src=\"https://storage.googleapis.com/generativeai-downloads/gemini-cookbook/videos/dog_sunflowers.mp4\">"
      ]
    },
    {
      "cell_type": "markdown",
      "metadata": {
        "id": "o76q8-R5Avwl"
      },
      "source": [
        "#### Working with lighting controls\n",
        "\n",
        "Veo 3 also allows you to have a good control on the lighing of the video being generated."
      ]
    },
    {
      "cell_type": "code",
      "execution_count": null,
      "metadata": {
        "id": "4E73XDvAA2Sz"
      },
      "outputs": [],
      "source": [
        "if not I_am_aware_that_veo_is_a_paid_feature:\n",
        "  print(\"Veo is a paid feature. Please change the variable 'I_am_aware_that_veo_is_a_paid_feature' to True if you are okay with paying to run it.\")\n",
        "\n",
        "else:\n",
        "  import time\n",
        "  from google.genai import types\n",
        "  from IPython.display import Video, HTML\n",
        "\n",
        "  prompt = \"a solitary, ancient oak tree silhouetted against a dramatic sunset. Emphasize the exquisite control over lighting: capture the deep, warm hues of the setting sun backlighting the tree, with subtle rays of light piercing through the branches, highlighting the texture of the bark and leaves with a golden glow. The sky should transition from fiery orange at the horizon to soft purples and blues overhead, with a single, faint star appearing as dusk deepens. Include the gentle sound of a breeze rustling through the leaves, and the distant call of an owl.\" # @param {type: \"string\"}\n",
        "\n",
        "  # Optional parameters\n",
        "  negative_prompt = \"\" # @param {type: \"string\"}\n",
        "  aspect_ratio = \"16:9\" # @param [\"16:9\",\"9:16\"]\n",
        "  resolution = \"1080p\" # @param [\"720p\",\"1080p\"]\n",
        "\n",
        "  operation = client.models.generate_videos(\n",
        "      model=VEO_MODEL_ID,\n",
        "      prompt=prompt,\n",
        "      config=types.GenerateVideosConfig(\n",
        "        # At the moment the config must not be empty\n",
        "        aspect_ratio=aspect_ratio,\n",
        "        resolution=resolution,\n",
        "        number_of_videos=1, # 1 video generated per request\n",
        "        negative_prompt=negative_prompt,\n",
        "      ),\n",
        "  )\n",
        "\n",
        "  # Waiting for the video(s) to be generated\n",
        "  while not operation.done:\n",
        "      time.sleep(20)\n",
        "      operation = client.operations.get(operation)\n",
        "      print(operation)\n",
        "\n",
        "  print(operation.result.generated_videos)\n",
        "\n",
        "  for n, generated_video in enumerate(operation.result.generated_videos):\n",
        "    client.files.download(file=generated_video.video)\n",
        "    generated_video.video.save(f'video{n}.mp4') # Saves the video(s)\n",
        "    display(generated_video.video.show()) # Displays the video(s) in a notebook"
      ]
    },
    {
      "cell_type": "markdown",
      "metadata": {
        "id": "SlaTAhZS2LAm"
      },
      "source": [
        "##### Watch a sample generation 🎥\n",
        "\n",
        "🍿 The video you will generate will be similar to this: [A solitary, ancient oak tree silhouetted against a dramatic sunset](https://storage.googleapis.com/generativeai-downloads/gemini-cookbook/videos/lighting_control.mp4).\n",
        "\n",
        "<video controls src=\"https://storage.googleapis.com/generativeai-downloads/gemini-cookbook/videos/lighting_control.mp4\">"
      ]
    },
    {
      "cell_type": "markdown",
      "metadata": {
        "id": "PM-YBJ_nCAM4"
      },
      "source": [
        "#### Working with camera controls\n",
        "\n",
        "Veo 3 also allows you to have a good control on the camera shots and behavior of the video being generated."
      ]
    },
    {
      "cell_type": "code",
      "execution_count": null,
      "metadata": {
        "id": "5EIpvP7nCJvS"
      },
      "outputs": [],
      "source": [
        "if not I_am_aware_that_veo_is_a_paid_feature:\n",
        "  print(\"Veo is a paid feature. Please change the variable 'I_am_aware_that_veo_is_a_paid_feature' to True if you are okay with paying to run it.\")\n",
        "\n",
        "else:\n",
        "  import time\n",
        "  from google.genai import types\n",
        "  from IPython.display import Video, HTML\n",
        "\n",
        "  prompt = \"a realistic video of a futuristic red sportscar speeding down a winding coastal highway at dusk. Begin with a high-angle drone shot that slowly descends, transitioning into a close-up, low-angle tracking shot that perfectly follows the car as it rounds a curve, emphasizing its speed and the gleam of its paint under the fading light. Then, execute a smooth, rapid dolly zoom, making the background compress as the car remains the same size, conveying a sense of intense focus and speed. Finally, end with a perfectly stable, slow-motion shot from a fixed roadside perspective as the car blurs past, its taillights streaking across the frame. Include the immersive sound of the engine roaring, the tires gripping the asphalt, and the distant crash of waves.\" # @param {type: \"string\"}\n",
        "\n",
        "  # Optional parameters\n",
        "  negative_prompt = \"\" # @param {type: \"string\"}\n",
        "  aspect_ratio = \"16:9\" # @param [\"16:9\",\"9:16\"]\n",
        "  resolution = \"1080p\" # @param [\"720p\",\"1080p\"]\n",
        "\n",
        "  operation = client.models.generate_videos(\n",
        "      model=VEO_MODEL_ID,\n",
        "      prompt=prompt,\n",
        "      config=types.GenerateVideosConfig(\n",
        "        # At the moment the config must not be empty\n",
        "        aspect_ratio=aspect_ratio,\n",
        "        resolution=resolution,\n",
        "        number_of_videos=1, # 1 video generated per request\n",
        "        negative_prompt=negative_prompt,\n",
        "      ),\n",
        "  )\n",
        "\n",
        "  # Waiting for the video(s) to be generated\n",
        "  while not operation.done:\n",
        "      time.sleep(20)\n",
        "      operation = client.operations.get(operation)\n",
        "      print(operation)\n",
        "\n",
        "  print(operation.result.generated_videos)\n",
        "\n",
        "  for n, generated_video in enumerate(operation.result.generated_videos):\n",
        "    client.files.download(file=generated_video.video)\n",
        "    generated_video.video.save(f'video{n}.mp4') # Saves the video(s)\n",
        "    display(generated_video.video.show()) # Displays the video(s) in a notebook"
      ]
    },
    {
      "cell_type": "markdown",
      "metadata": {
        "id": "LAuPl-gm3BUP"
      },
      "source": [
        "##### Watch a sample generation 🎥\n",
        "\n",
        "🍿 The video you will generate will be similar to this: [a futuristic red sportscar speeding down a winding coastal highway](https://storage.googleapis.com/generativeai-downloads/gemini-cookbook/videos/camera_control.mp4).\n",
        "\n",
        "<video controls src=\"https://storage.googleapis.com/generativeai-downloads/gemini-cookbook/videos/camera_control.mp4\">"
      ]
    },
    {
      "cell_type": "markdown",
      "metadata": {
        "id": "_5yUhVHED_ye"
      },
      "source": [
        "#### Working with audio controls\n",
        "\n",
        "Veo 3 also allows you to control audio details on your generated video."
      ]
    },
    {
      "cell_type": "code",
      "execution_count": null,
      "metadata": {
        "id": "DB3k5hOiED_2"
      },
      "outputs": [],
      "source": [
        "if not I_am_aware_that_veo_is_a_paid_feature:\n",
        "  print(\"Veo is a paid feature. Please change the variable 'I_am_aware_that_veo_is_a_paid_feature' to True if you are okay with paying to run it.\")\n",
        "\n",
        "else:\n",
        "  import time\n",
        "  from google.genai import types\n",
        "  from IPython.display import Video, HTML\n",
        "\n",
        "  prompt = \"fireworks at a beautiful city skyline scene with many different fireworks colors and sounds. sounds from excited people enjoying the show surrounding the camera POV can be heard too.\" # @param {type: \"string\"}\n",
        "\n",
        "  # Optional parameters\n",
        "  negative_prompt = \"\" # @param {type: \"string\"}\n",
        "  aspect_ratio = \"16:9\" # @param [\"16:9\",\"9:16\"]\n",
        "  resolution = \"1080p\" # @param [\"720p\",\"1080p\"]\n",
        "\n",
        "  operation = client.models.generate_videos(\n",
        "      model=VEO_MODEL_ID,\n",
        "      prompt=prompt,\n",
        "      config=types.GenerateVideosConfig(\n",
        "        # At the moment the config must not be empty\n",
        "        aspect_ratio=aspect_ratio,\n",
        "        resolution=resolution,\n",
        "        number_of_videos=1, # 1 video generated per request\n",
        "        negative_prompt=negative_prompt,\n",
        "      ),\n",
        "  )\n",
        "\n",
        "  # Waiting for the video(s) to be generated\n",
        "  while not operation.done:\n",
        "      time.sleep(20)\n",
        "      operation = client.operations.get(operation)\n",
        "      print(operation)\n",
        "\n",
        "  print(operation.result.generated_videos)\n",
        "\n",
        "  for n, generated_video in enumerate(operation.result.generated_videos):\n",
        "    client.files.download(file=generated_video.video)\n",
        "    generated_video.video.save(f'video{n}.mp4') # Saves the video(s)\n",
        "    display(generated_video.video.show()) # Displays the video(s) in a notebook"
      ]
    },
    {
      "cell_type": "markdown",
      "metadata": {
        "id": "yfPPa6XT3VVb"
      },
      "source": [
        "##### Watch a sample generation 🎥\n",
        "\n",
        "🍿 The video you will generate will be similar to this: [fireworks at a beautiful city skyline scene](https://storage.googleapis.com/generativeai-downloads/gemini-cookbook/videos/audio_control.mp4).\n",
        "\n",
        "<video controls src=\"https://storage.googleapis.com/generativeai-downloads/gemini-cookbook/videos/audio_control.mp4\">"
      ]
    },
    {
      "cell_type": "markdown",
      "metadata": {
        "id": "3l-Y51gcHvBc"
      },
      "source": [
        "#### Working with dialogs\n",
        "\n",
        "You have the flexibility to define the dialog on your videos too."
      ]
    },
    {
      "cell_type": "code",
      "execution_count": null,
      "metadata": {
        "id": "cp6L9hd7HvdB"
      },
      "outputs": [],
      "source": [
        "if not I_am_aware_that_veo_is_a_paid_feature:\n",
        "  print(\"Veo is a paid feature. Please change the variable 'I_am_aware_that_veo_is_a_paid_feature' to True if you are okay with paying to run it.\")\n",
        "\n",
        "else:\n",
        "  import time\n",
        "  from google.genai import types\n",
        "  from IPython.display import Video, HTML\n",
        "\n",
        "  prompt = \"Two charismatic and funny raindrops like coloured characters. The first character start saying \\\"oh my god, it is really hot in here!\\\" - then the second answers \\\"right? I'm melting down! then it melts down completely.\" # @param {type: \"string\"}\n",
        "\n",
        "  # Optional parameters\n",
        "  negative_prompt = \"texts, captions, subtitles\" # @param {type: \"string\"}\n",
        "  aspect_ratio = \"16:9\" # @param [\"16:9\",\"9:16\"]\n",
        "  resolution = \"1080p\" # @param [\"720p\",\"1080p\"]\n",
        "\n",
        "  operation = client.models.generate_videos(\n",
        "      model=VEO_MODEL_ID,\n",
        "      prompt=prompt,\n",
        "      config=types.GenerateVideosConfig(\n",
        "        # At the moment the config must not be empty\n",
        "        aspect_ratio=aspect_ratio,\n",
        "        resolution=resolution,\n",
        "        number_of_videos=1, # 1 video generated per request\n",
        "        negative_prompt=negative_prompt,\n",
        "      ),\n",
        "  )\n",
        "\n",
        "  # Waiting for the video(s) to be generated\n",
        "  while not operation.done:\n",
        "      time.sleep(20)\n",
        "      operation = client.operations.get(operation)\n",
        "      print(operation)\n",
        "\n",
        "  print(operation.result.generated_videos)\n",
        "\n",
        "  for n, generated_video in enumerate(operation.result.generated_videos):\n",
        "    client.files.download(file=generated_video.video)\n",
        "    generated_video.video.save(f'video{n}.mp4') # Saves the video(s)\n",
        "    display(generated_video.video.show()) # Displays the video(s) in a notebook"
      ]
    },
    {
      "cell_type": "markdown",
      "metadata": {
        "id": "ij1N8ewl3r1n"
      },
      "source": [
        "##### Watch a sample generation 🎥\n",
        "\n",
        "🍿 The video you will generate will be similar to this: [A dialog of two charismatic and funny raindrops like coloured characters](https://storage.googleapis.com/generativeai-downloads/gemini-cookbook/videos/dialog_control.mp4).\n",
        "\n",
        "<video controls src=\"https://storage.googleapis.com/generativeai-downloads/gemini-cookbook/videos/dialog_control.mp4\">"
      ]
    },
    {
      "cell_type": "markdown",
      "metadata": {
        "id": "TfGKClyG-u6t"
      },
      "source": [
        "### Image-to-video\n",
        "\n",
        "You can also generate videos from an base image and a prompt. Here are two examples, one in which you provide the image and one in which you will use Imagen to generate the image.\n"
      ]
    },
    {
      "cell_type": "markdown",
      "metadata": {
        "id": "1H6Dz7LBNFEF"
      },
      "source": [
        "#### Using your own images\n",
        "\n",
        "If you want to use your own image, upload it to colab by clicking on the **folder icon** in the left menu (it should be the 5th choice), then on the **upload icon** (the first one) at the top of left left panel that should have been opened.\n",
        "\n",
        "Your images will be uploaded in the `/content` folder of this colab instance.\n",
        "\n",
        "Alternatively, you can use the code in this cell to upload your image:"
      ]
    },
    {
      "cell_type": "code",
      "execution_count": null,
      "metadata": {
        "id": "piUkifZtGUNn"
      },
      "outputs": [],
      "source": [
        "import os\n",
        "\n",
        "from google.colab import files\n",
        "\n",
        "uploaded = files.upload()\n",
        "for fn in uploaded.keys():\n",
        "  os.rename(fn, 'image.jpg')"
      ]
    },
    {
      "cell_type": "markdown",
      "metadata": {
        "id": "aXfzEx5qRGwO"
      },
      "source": [
        "Now that you have your own image, you can add it to your Veo prompt.\n",
        "\n",
        "If you don't know what to prompt about your image, keep the prompt empty and the model will figure out what to generate.\n"
      ]
    },
    {
      "cell_type": "code",
      "execution_count": null,
      "metadata": {
        "id": "5iulxKGrAGdl"
      },
      "outputs": [],
      "source": [
        "from IPython.display import Image as Img\n",
        "\n",
        "display(Img('image.jpg', width=600)) # display the uploaded image"
      ]
    },
    {
      "cell_type": "code",
      "execution_count": null,
      "metadata": {
        "id": "FqFUCWBnRVBH"
      },
      "outputs": [],
      "source": [
        "if not I_am_aware_that_veo_is_a_paid_feature:\n",
        "  print(\"Veo is a paid feature. Please change the variable 'I_am_aware_that_veo_is_a_paid_feature' to True if you are okay with paying to run it.\")\n",
        "\n",
        "else:\n",
        "  import time\n",
        "  from google.genai import types\n",
        "  from IPython.display import Video, HTML\n",
        "  from PIL import Image\n",
        "  import io\n",
        "\n",
        "  prompt = \"\" # @param {\"type\":\"string\",\"placeholder\":\"Write your own prompt or leave empty to let the model decide\"}\n",
        "  image_name = \"\" # @param {type: \"string\", \"placeholder\":\"Enter the name of your image or leave empty for the one you just uploaded.\"}\n",
        "\n",
        "  # Optional parameters\n",
        "  negative_prompt = \"ugly, low quality\" # @param {type: \"string\"}\n",
        "  aspect_ratio = \"9:16\" # @param [\"16:9\",\"9:16\"]\n",
        "  resolution = \"720p\" # @param [\"720p\",\"1080p\"]\n",
        "\n",
        "  # Loading the image\n",
        "  if image_name==\"\":\n",
        "    image_name = \"image.jpg\"\n",
        "  im = Image.open(image_name)\n",
        "\n",
        "  # converting the image to bytes\n",
        "  image_bytes_io = io.BytesIO()\n",
        "  im.save(image_bytes_io, format=im.format)\n",
        "  image_bytes = image_bytes_io.getvalue()\n",
        "\n",
        "  operation = client.models.generate_videos(\n",
        "      model=VEO_MODEL_ID,\n",
        "      prompt=prompt,\n",
        "      image=types.Image(image_bytes=image_bytes, mime_type=im.format),\n",
        "      config=types.GenerateVideosConfig(\n",
        "        # At the moment the config must not be empty\n",
        "        aspect_ratio=aspect_ratio,\n",
        "        resolution=resolution,\n",
        "        number_of_videos=1, # 1 video generated per request\n",
        "        negative_prompt=negative_prompt,\n",
        "      ),\n",
        "  )\n",
        "\n",
        "  # Waiting for the video(s) to be generated\n",
        "  while not operation.done:\n",
        "      time.sleep(20)\n",
        "      operation = client.operations.get(operation)\n",
        "      print(operation)\n",
        "\n",
        "  print(operation.result.generated_videos)\n",
        "\n",
        "  for n, generated_video in enumerate(operation.result.generated_videos):\n",
        "    client.files.download(file=generated_video.video)\n",
        "    generated_video.video.save(f'video{n}.mp4') # Saves the video(s)\n",
        "    display(generated_video.video.show()) # Displays the video(s) in a notebook"
      ]
    },
    {
      "cell_type": "markdown",
      "metadata": {
        "id": "2RYcsui34uGN"
      },
      "source": [
        "##### Watch a sample generation 🎥\n",
        "\n",
        "🍿 The video you will generate will be similar to this: [A video generated from the uploaded image](https://storage.googleapis.com/generativeai-downloads/gemini-cookbook/videos/video_from_img.mp4).\n",
        "\n",
        "<video controls src=\"https://storage.googleapis.com/generativeai-downloads/gemini-cookbook/videos/video_from_img.mp4\">"
      ]
    },
    {
      "cell_type": "markdown",
      "metadata": {
        "id": "PEii7s0YNUXy"
      },
      "source": [
        "#### Using Imagen4 to generate the base image\n",
        "\n",
        "This time you're going to generate a base image with imagen and, when happy with it, create a video out of it.\n",
        "\n",
        "If you want to know more about Imagen, check out the [Imagen notebook](./Get_started_imagen.ipynb).\n",
        "\n",
        "[Native image-out](./Image_out.ipynb) aka nano banana is an alternative to Imagen that would also be worth considering.\n",
        "\n",
        "<!-- Warning Badge -->\n",
        "<table>\n",
        "  <tr>\n",
        "    <!-- Emoji -->\n",
        "    <td bgcolor=\"#f5949e\">\n",
        "      <font size=30>⚠️</font>\n",
        "    </td>\n",
        "    <!-- Text Content Cell -->\n",
        "    <td bgcolor=\"#f5949e\">\n",
        "      <h3><font color=black>Be careful, Imagen 4 is a paid only feature (cf. <a href=\"https://ai.google.dev/pricing#imagen3\"><font color='#217bfe'>pricing</font></a>).</font></h3>\n",
        "    </td>\n",
        "  </tr>\n",
        "</table>"
      ]
    },
    {
      "cell_type": "code",
      "execution_count": null,
      "metadata": {
        "id": "m1g68XK19ZBY"
      },
      "outputs": [],
      "source": [
        "if not I_am_aware_that_veo_is_a_paid_feature:\n",
        "  print(\"Imagen is a paid feature. Please change the variable 'I_am_aware_that_veo_is_a_paid_feature' to True if you are okay with paying to run it.\")\n",
        "\n",
        "else:\n",
        "  prompt = \"A high quality photorealistic front image of a ginger cat driving a red convertible racing car\"  # @param {type: \"string\"}\n",
        "\n",
        "  # Optional parameters\n",
        "  negative_prompt = \"ugly, low quality, static, weird physics\" # @param {type: \"string\"}\n",
        "  aspect_ratio = \"16:9\"\n",
        "  number_of_videos = 1\n",
        "\n",
        "\n",
        "  result = client.models.generate_images(\n",
        "      model=\"imagen-4.0-generate-preview-06-06\",\n",
        "      prompt=prompt,\n",
        "      config=types.GenerateImagesConfig(\n",
        "          number_of_images=1,\n",
        "          output_mime_type=\"image/jpeg\",\n",
        "          aspect_ratio=aspect_ratio\n",
        "          #negative_prompt=negativePrompt, # negative prompt is curently only supported by Veo\n",
        "      )\n",
        "  )\n",
        "\n",
        "  result.generated_images[0].image.show()"
      ]
    },
    {
      "cell_type": "markdown",
      "metadata": {
        "id": "raT1jxXsOEnF"
      },
      "source": [
        "When you are happy with your image, you can use Veo to make a video out of it."
      ]
    },
    {
      "cell_type": "code",
      "execution_count": null,
      "metadata": {
        "id": "bcWr0jAPfv0y"
      },
      "outputs": [],
      "source": [
        "if not I_am_aware_that_veo_is_a_paid_feature:\n",
        "  print(\"Veo is a paid feature. Please change the variable 'I_am_aware_that_veo_is_a_paid_feature' to True if you are okay with paying to run it.\")\n",
        "\n",
        "else:\n",
        "  import time\n",
        "  from IPython.display import Video, HTML\n",
        "\n",
        "  # Optional parameters\n",
        "  negative_prompt = \"ugly, low quality, static, weird physics\" # @param {type: \"string\"}\n",
        "  aspect_ratio = \"16:9\" # @param [\"16:9\",\"9:16\"]\n",
        "  resolution = \"1080p\" # @param [\"720p\",\"1080p\"]\n",
        "\n",
        "  operation = client.models.generate_videos(\n",
        "      model=VEO_MODEL_ID,\n",
        "      prompt=prompt,\n",
        "      image=types.Image(\n",
        "          image_bytes=result.generated_images[0].image.image_bytes,\n",
        "          mime_type=\"image/png\"\n",
        "      ),\n",
        "      config=types.GenerateVideosConfig(\n",
        "        # At the moment the config must not be empty\n",
        "        aspect_ratio=aspect_ratio,\n",
        "        resolution=resolution,\n",
        "        number_of_videos=1, # 1 video generated per request\n",
        "        negative_prompt=negative_prompt,\n",
        "      ),\n",
        "  )\n",
        "\n",
        "  # Waiting for the video(s) to be generated\n",
        "  while not operation.done:\n",
        "      time.sleep(20)\n",
        "      operation = client.operations.get(operation)\n",
        "      print(operation)\n",
        "\n",
        "  print(operation.result.generated_videos)\n",
        "\n",
        "  for n, generated_video in enumerate(operation.result.generated_videos):\n",
        "    client.files.download(file=generated_video.video)\n",
        "    generated_video.video.save(f'video{n}.mp4') # Saves the video(s)\n",
        "    display(generated_video.video.show()) # Display the video(s) in a notebook"
      ]
    },
    {
      "cell_type": "markdown",
      "metadata": {
        "id": "GVLNgnLg90hR"
      },
      "source": [
        "##### Watch a sample generation 🎥\n",
        "\n",
        "🍿 The video you will generate will be similar to this: [A video generated from the Imagen generated image](https://storage.googleapis.com/generativeai-downloads/gemini-cookbook/videos/video_from_imagen_img.mp4).\n",
        "\n",
        "<video controls src=\"https://storage.googleapis.com/generativeai-downloads/gemini-cookbook/videos/video_from_imagen_img.mp4\">"
      ]
    },
    {
      "cell_type": "markdown",
      "metadata": {
        "id": "2-rXik8CZtHk"
      },
      "source": [
        "#### Maintaining character consistency\n",
        "\n",
        "To maintain character consistency in a single shot, it can be helpful to provide multiple angles of your subject in the input image. In the example below, the input image provided to Veo shows a man looking straight at the camera, and then his left and right profile. This can help Veo to achieve more consistent output for actions like removing glasses, smiling, turning away from the camera, etc.\n",
        "\n",
        "If you want to learn tips for mainting character consistency across multiple video clips, [check out this example](https://github.com/philschmid/gemini-samples/blob/main/scripts/gemini-veo-meta.py)."
      ]
    },
    {
      "cell_type": "code",
      "execution_count": null,
      "metadata": {
        "id": "ocekCHZkZtHk"
      },
      "outputs": [],
      "source": [
        "import os\n",
        "\n",
        "from google.colab import files\n",
        "\n",
        "uploaded = files.upload()\n",
        "for fn in uploaded.keys():\n",
        "  os.rename(fn, 'image.jpg')"
      ]
    },
    {
      "cell_type": "code",
      "execution_count": null,
      "metadata": {
        "id": "zfKLHAY7ZtHk"
      },
      "outputs": [],
      "source": [
        "from IPython.display import Image as Img\n",
        "\n",
        "display(Img('image.jpg', width=600)) # display the uploaded image"
      ]
    },
    {
      "cell_type": "code",
      "execution_count": null,
      "metadata": {
        "id": "wf5g8u-oZtHk"
      },
      "outputs": [],
      "source": [
        "if not I_am_aware_that_veo_is_a_paid_feature:\n",
        "  print(\"Veo is a paid feature. Please change the variable 'I_am_aware_that_veo_is_a_paid_feature' to True if you are okay with paying to run it.\")\n",
        "\n",
        "else:\n",
        "  import time\n",
        "  from google.genai import types\n",
        "  from IPython.display import Video, HTML\n",
        "  from PIL import Image\n",
        "  import io\n",
        "\n",
        "  prompt = \"This is a view of a character (Joel) from multiple angles that you can use as a reference to generate a video of a head-on shot of Joel smiling, removing his glasses and winking at the camera one time. HDMR. 8K\" # @param {type: \"string\"}\n",
        "  image_name = \"\" # @param {type: \"string\", \"placeholder\":\"Enter the name of your image or leave empty for the one you just uploaded.\"}\n",
        "\n",
        "  # Optional parameters\n",
        "  negative_prompt = \"ugly, low quality, static, weird physics\" # @param {type: \"string\"}\n",
        "  aspect_ratio = \"16:9\" # @param [\"16:9\",\"9:16\"]\n",
        "  resolution = \"1080p\" # @param [\"720p\",\"1080p\"]\n",
        "\n",
        "  # Loading the image\n",
        "  if image_name==\"\":\n",
        "    image_name = \"image.jpg\"\n",
        "  im = Image.open(image_name)\n",
        "\n",
        "  # converting the image to bytes\n",
        "  image_bytes_io = io.BytesIO()\n",
        "  im.save(image_bytes_io, format=im.format)\n",
        "  image_bytes = image_bytes_io.getvalue()\n",
        "\n",
        "  operation = client.models.generate_videos(\n",
        "      model=VEO_MODEL_ID,\n",
        "      prompt=prompt,\n",
        "      image=types.Image(image_bytes=image_bytes, mime_type=im.format),\n",
        "      config=types.GenerateVideosConfig(\n",
        "        # At the moment the config must not be empty\n",
        "        aspect_ratio=aspect_ratio,\n",
        "        resolution=resolution,\n",
        "        number_of_videos=1, # 1 video generated per request\n",
        "        negative_prompt=negative_prompt,\n",
        "      ),\n",
        "  )\n",
        "\n",
        "  # Waiting for the video(s) to be generated\n",
        "  while not operation.done:\n",
        "      time.sleep(20)\n",
        "      operation = client.operations.get(operation)\n",
        "      print(operation)\n",
        "\n",
        "  print(operation.result.generated_videos)\n",
        "\n",
        "  for n, generated_video in enumerate(operation.result.generated_videos):\n",
        "    client.files.download(file=generated_video.video)\n",
        "    generated_video.video.save(f'video{n}.mp4') # Saves the video(s)\n",
        "    display(generated_video.video.show()) # Displays the video(s) in a notebook"
      ]
    },
    {
      "cell_type": "markdown",
      "metadata": {
        "id": "iiFVhziAZtHk"
      },
      "source": [
        "##### Watch a sample generation 🎥\n",
        "\n",
        "🍿 The video you will generate will be similar to this: [A video generated of a man removing his glasses.](https://storage.googleapis.com/generativeai-downloads/gemini-cookbook/videos/character_consistency.mp4)\n",
        "\n",
        "<video controls src=\"https://storage.googleapis.com/generativeai-downloads/gemini-cookbook/videos/character_consistency.mp4\">"
      ]
    },
    {
      "cell_type": "code",
      "execution_count": null,
      "metadata": {
        "id": "ouBUcEsHq8KD"
      },
      "outputs": [],
      "source": [
        "# To prevent you from running the notebook by mistake\n",
        "I_am_aware_that_veo_is_a_paid_feature = False"
      ]
    },
    {
      "cell_type": "markdown",
      "metadata": {
        "id": "4677dd58e9b5"
      },
      "source": [
        "## Next Steps\n",
        "### Useful API references:\n",
        "\n",
        "Check the [Veo documentation](https://ai.google.dev/gemini-api/docs/video) and the [prompt guide](https://ai.google.dev/gemini-api/docs/video#prompt-guide) for more details on how to use Veo and best prompt it.\n",
        "\n",
        "### Continue your discovery of the Gemini API\n",
        "\n",
        "Here are other cool Gemini features that you might find interesting:\n",
        "* [Imagen](./Get_started_Imagen.ipynb) can generate images with fine detail, rich lighting, and few distracting artifact from natural language prompts;\n",
        "* Gemini's [Image-out](./Image-out.ipynb) built-in image output can also generate images and let you iterate on them by chatting with the model;\n",
        "* Built-in [Audio-out](./Audio-out.ipynb) is also a great multimodal output capability that's quite fun to play with."
      ]
    }
  ],
  "metadata": {
    "colab": {
      "name": "Get_started_Veo.ipynb",
      "toc_visible": true,
      "provenance": [],
      "include_colab_link": true
    },
    "kernelspec": {
      "display_name": "Python 3",
      "name": "python3"
    }
  },
  "nbformat": 4,
  "nbformat_minor": 0
}